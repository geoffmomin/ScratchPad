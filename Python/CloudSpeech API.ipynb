{
 "cells": [
  {
   "cell_type": "markdown",
   "metadata": {},
   "source": [
    "# Setting Up CloudSpeech API on the Raspberry Pi with VoiceHAT"
   ]
  },
  {
   "cell_type": "markdown",
   "metadata": {},
   "source": [
    "This notebook is licensed under the Apache License, Version 2.0. Written by Geoffrey Momin. <br>\n",
    "We recommend using a clean distribution of Raspbian on an (at least) 16GB SD card. There are boundless support documents online to guide you through the Raspbian setup process.\n",
    "<br>\n",
    "Once you're ready to install CloudSpeech, continue below:"
   ]
  },
  {
   "cell_type": "markdown",
   "metadata": {},
   "source": [
    "## Installing the Dependencies"
   ]
  },
  {
   "cell_type": "markdown",
   "metadata": {},
   "source": [
    "sudo apt-get install git <br>\n",
    "cd <br>\n",
    "git clone https://github.com/geoffmomin/aiyprojects-raspbian.git AIY-projects-python"
   ]
  },
  {
   "cell_type": "markdown",
   "metadata": {},
   "source": [
    "Now setup the services:"
   ]
  },
  {
   "cell_type": "markdown",
   "metadata": {},
   "source": [
    "cd ~/AIY-projects-python <br>\n",
    "scripts/install-deps.sh <br>\n",
    "sudo scripts/install-services.sh"
   ]
  },
  {
   "cell_type": "markdown",
   "metadata": {},
   "source": [
    "## Configuring the VoiceHAT driver"
   ]
  },
  {
   "cell_type": "markdown",
   "metadata": {},
   "source": [
    "To use voiceHAT, you need to make sure you're using the latest Raspbian kernel. Then, you can configure ALSA:"
   ]
  },
  {
   "cell_type": "markdown",
   "metadata": {},
   "source": [
    "sudo scripts/configure-driver.sh <br>\n",
    "sudo reboot <br>"
   ]
  },
  {
   "cell_type": "markdown",
   "metadata": {},
   "source": [
    "After the reboot, run:"
   ]
  },
  {
   "cell_type": "markdown",
   "metadata": {},
   "source": [
    "cd ~/AIY-projects-python <br>\n",
    "sudo scripts/install-alsa-config.sh <br>\n",
    "python3 checkpoints/check_audio.py <br>\n",
    "sudo reboot"
   ]
  },
  {
   "cell_type": "markdown",
   "metadata": {},
   "source": [
    "## Now get your Google Cloud Platform Credentials"
   ]
  },
  {
   "cell_type": "markdown",
   "metadata": {},
   "source": [
    "You can find a great guide to set up your credentials over here: https://cloud.google.com/docs/authentication/"
   ]
  },
  {
   "cell_type": "markdown",
   "metadata": {},
   "source": [
    "# Time to Code!"
   ]
  },
  {
   "cell_type": "markdown",
   "metadata": {},
   "source": [
    "We are going to use python version 3.X to develop this program. Make sure you're running the latest version of python. You can check by running \"python -v\" (without quotes) in terminal."
   ]
  },
  {
   "cell_type": "markdown",
   "metadata": {},
   "source": [
    "## Import all dependencies"
   ]
  },
  {
   "cell_type": "code",
   "execution_count": null,
   "metadata": {},
   "outputs": [],
   "source": [
    "import aiy.audio\n",
    "import aiy.cloudspeech\n",
    "import aiy.voicehat\n",
    "import serial\n",
    "\n",
    "ser = serial.Serial('/dev/ttyUSB0',9600)"
   ]
  },
  {
   "cell_type": "markdown",
   "metadata": {},
   "source": [
    "The above modules activate the microphone, calls the CloudSpeech API, and activates the VoiceHAT driver. Now you can define the main function."
   ]
  },
  {
   "cell_type": "code",
   "execution_count": null,
   "metadata": {},
   "outputs": [],
   "source": [
    "def main():\n",
    "    recognizer = aiy.cloudspeech.get_recognizer()\n",
    "    recognizer.expect_phrase(\"move forward\")\n",
    "    recognizer.expect_phrase(\"move backwards\")\n",
    "    recognizer.expect_phrase(\"stop\")\n",
    "    \n",
    "    button = aiy.voicehat.get_button()\n",
    "    led = aiy.voicehat.get_led()\n",
    "    aiy.audio.get_recorder().start()\n",
    "    \n",
    "    while True:\n",
    "        print(\"Please press the button and speak\")\n",
    "        button.wait_for_press()\n",
    "        print(\"Listening\")\n",
    "        text = recognizer.recognize()\n",
    "        if not text:\n",
    "            print(\"Sorry, I did not understand that\")\n",
    "        else:\n",
    "            print(\"You said: \", text)\n",
    "            if 'move forward' in text:\n",
    "                ser.write(\"F\")\n",
    "            elif 'move backwards' in text:\n",
    "                ser.write(\"B\")\n",
    "            elif 'stop' in text:\n",
    "                ser.write(\"X\")\n",
    "            elif 'goodbye' in text:\n",
    "                break\n",
    "\n",
    "if __name__ == '__main__'\n",
    "    main()\n",
    "    "
   ]
  }
 ],
 "metadata": {
  "kernelspec": {
   "display_name": "Python 3",
   "language": "python",
   "name": "python3"
  },
  "language_info": {
   "codemirror_mode": {
    "name": "ipython",
    "version": 3
   },
   "file_extension": ".py",
   "mimetype": "text/x-python",
   "name": "python",
   "nbconvert_exporter": "python",
   "pygments_lexer": "ipython3",
   "version": "3.6.3"
  }
 },
 "nbformat": 4,
 "nbformat_minor": 2
}
